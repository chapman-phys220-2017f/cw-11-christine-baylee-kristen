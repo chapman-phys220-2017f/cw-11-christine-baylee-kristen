{
 "cells": [
  {
   "cell_type": "markdown",
   "metadata": {
    "collapsed": false
   },
   "source": [
    "# Classwork 11\n",
    "\n",
    "Christine Outlaw, Baylee Mumma\n",
    "\n",
    "November 7, 2017"
   ]
  },
  {
   "cell_type": "markdown",
   "metadata": {
    "collapsed": false
   },
   "source": [
    "#### Euler's Method (accurate to 1st-order):\n",
    "$$u_{k+1} = u_k + \\Delta t\\, f[t_k, u_k]$$\n",
    "Euler's Method generates the solution to an initial value problem by considering an initial condition and the slope of a given function. The domain is then divided into subdivisions of equal length. Then, using the initial condition as the starting point, the equation generates the rest of the solution by iterating through the domain. Euler's method considers the previous point to estimate the value at the next point. Each iteration takes the previous value and adds the change in time multiplied by the slope at that point."
   ]
  },
  {
   "cell_type": "markdown",
   "metadata": {
    "collapsed": false
   },
   "source": [
    "#### Leapfrog (Midpoint) Method (accurate to 2nd-order):\n",
    "$$u_{k+1} = u_{k-1} + 2\\Delta t\\, f[t_k, u_k]$$\n",
    "\n",
    "In the Leapfrog method, the value is found by using the two previous points in the sequence to calculate $u_{k+1}$. Next, the previous iterated point, $u_{k-1}$, is added to two multiplied by the change in time, $(2\\Delta t)$. $(2\\Delta t)$ is also multipilied by the rate of change of $u$ at a given time. Compared to Euler's method, the Leapfrog method is slightly more accurate because it calculates the centered difference instead of the forward or backward difference. This allows more accuracy when calculating then next point on the sequence. To find $u_1$, you would need $u_{-1}$ and $u_0$ since this method requires two previous points, so you must have two boundary points to calculate the midpoint. "
   ]
  },
  {
   "cell_type": "markdown",
   "metadata": {
    "collapsed": false
   },
   "source": [
    "#### Heun's (Trapezoid) Method (accurate to 2nd-order):\n",
    "$$\\tilde{u}_{k+1} = u_k + \\Delta t\\, f[t_k, u_k]$$\n",
    "$$u_{k+1} = u_k + (\\Delta t/2)(f[t_k, u_k] + f[t_{k+1}, \\tilde{u}_{k+1}])$$\n",
    "\n",
    "With Heun's method, the first line, $\\tilde{u}_{k+1}$, is performing Euler's method as it is known. It takes this slope and stores it as a variable $\\tilde{u}_{k+1}$. The second line, at first, looks complicated, but is very similar to Euler's method, with a variation. An average is taken, hence the $\\Delta t/2$, over the left tangent and right tangent lines ($u_k$ and $\\tilde{u}_{k+1}$). This average is added to $u_k$, showing the variation of Euler's method. This method is more accurate than the leapfrog method as it takes the average of slopes from each endpoint whereas the leapfrog method because it \n"
   ]
  },
  {
   "cell_type": "markdown",
   "metadata": {
    "collapsed": false
   },
   "source": [
    "#### 2nd-order Runge-Kutta Method (accurate to 2nd-order):\n",
    "$$u_{k+1} = u_k + K_2$$\n",
    "$$K_1 = \\Delta t\\, f[t_k, u_k]$$\n",
    "$$K_2 = \\Delta t\\, f[t_k + \\Delta t/2, u_k + K_1/2]$$\n",
    "\n",
    "With the 2nd order Runge-Kutta, an average is taken for two slopes. This method first calculates the slope at the first point in the interval and calculates the slope at the last point in the interval. With those two slopes, an average is taken in order to obtain the average slope over the interval. This is why there is a factor of $1/2$ in front of $u_k$ and $K_1$."
   ]
  },
  {
   "cell_type": "markdown",
   "metadata": {
    "collapsed": false
   },
   "source": [
    "#### 4th-order Runge-Kutta Method (accurate to 4th-order):\n",
    "$$u_{k+1} = u_k + (K_1 + 2K_2 + 2K_3 + K_4)/6$$\n",
    "$$K_1 = \\Delta t\\,f[t_k,u_k]$$\n",
    "$$K_2 = \\Delta t\\, f[t_k + \\Delta t/2, u_k + K_1/2]$$\n",
    "$$K_3 = \\Delta t\\, f[t_k + \\Delta t/2, u_k + K_2/2]$$\n",
    "$$K_4 = \\Delta t\\,f[t_k + \\Delta t, u_k + K_3]$$\n",
    "\n",
    "The Runge-Kutta 4th order method is an acurate estimation of the slope of the line throughout the interval. The method starts out by performing Euler's method to find the slope at the left endpoint in the interval. Along that calculated tangent line, it goes until half the $\\Delta t$ is traveled. Then the slope is found at the midpoint. This slope is taken back to the left endpoint and then drawn until the same $\\Delta t/2$. A new slope is calculated again at that point which is again translated to the left endpoint. This time, the tangent line is drawn to the right endpoint on the interval where the slope is again calculated. The middle increments are weighted more heavily since they occur halfway in the interval $\\Delta t$."
   ]
  }
 ],
 "metadata": {
  "kernelspec": {
   "display_name": "Python 3 (Anaconda)",
   "language": "python",
   "name": "anaconda3"
  },
  "language_info": {
   "codemirror_mode": {
    "name": "ipython",
    "version": 3
   },
   "file_extension": ".py",
   "mimetype": "text/x-python",
   "name": "python",
   "nbconvert_exporter": "python",
   "pygments_lexer": "ipython3",
   "version": "3.5.4"
  }
 },
 "nbformat": 4,
 "nbformat_minor": 0
}