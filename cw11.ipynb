{
 "cells": [
  {
   "cell_type": "markdown",
   "metadata": {
    "collapsed": false
   },
   "source": [
    "## CW 11"
   ]
  },
  {
   "cell_type": "markdown",
   "metadata": {
    "collapsed": false
   },
   "source": [
    "### Baylee Mumma, Christine Outlaw, Kristen Peet"
   ]
  },
  {
   "cell_type": "markdown",
   "metadata": {
    "collapsed": false
   },
   "source": [
    "Euler's Method (accurate to 1st-order): $$u_{k+1} = u_k + \\Delta t\\, f[t_k, u_k]$$\n",
    "Euler's Method generates the solution to an initial value problem by considering an initial condition and the slope of a given function. The domain is then divided into subdivisions of equal length. Then, using the initial condition as the starting point, the equation generates the rest of the solution by iterating through the domain. Euler's method considers the previous point to estimate the value at the next point. Each iteration takes the previous value and adds the change in time multiplied by the slope at that point.\n",
    "\n",
    "\n"
   ]
  },
  {
   "cell_type": "markdown",
   "metadata": {
    "collapsed": false
   },
   "source": [
    "Leapfrog (Midpoint) Method (accurate to 2nd-order): $$u_{k+1} = u_{k-1} + 2\\Delta t f[t_k, u_k]$$ \n",
    "In the Leapfrog method, the value is found by using the two previous points in the sequence to calculate $u_{k+1}$. Next, the previous iterated point, $u_{k-1}$, is added to two multiplied by the change in time, $(2\\Delta t)$. $(2\\Delta t)$ is also multipilied by the rate of change of $u$ at a given time. Compared to Euler's method, the Leapfrog method is slightly more accurate because it calculates the centered difference instead of the forward or backward difference. This allows more accuracy when calculating then next point on the sequence. To find $u_1$, you would need $u_{-1}$ and $u_0$ since this method requires two previous points, so you must have two boundary points to calculate the midpoint. "
   ]
  },
  {
   "cell_type": "markdown",
   "metadata": {
    "collapsed": false
   },
   "source": [
    "Heun's (Trapezoid) Method (accurate to 2nd-order): $$\\tilde{u}_{k+1} = u_k + \\Delta t\\, f[t_k, u_k]$$, $$u_{k+1} = u_k + (\\Delta t/2)(f[t_k, u_k] + f[t_{k+1}, \\tilde{u}_{k+1}])$$\n",
    "In Heun's method,..."
   ]
  },
  {
   "cell_type": "code",
   "execution_count": 0,
   "metadata": {
    "collapsed": false
   },
   "outputs": [
   ],
   "source": [
   ]
  }
 ],
 "metadata": {
  "kernelspec": {
   "display_name": "Python 3 (Anaconda)",
   "language": "python",
   "name": "anaconda3"
  },
  "language_info": {
   "codemirror_mode": {
    "name": "ipython",
    "version": 3
   },
   "file_extension": ".py",
   "mimetype": "text/x-python",
   "name": "python",
   "nbconvert_exporter": "python",
   "pygments_lexer": "ipython3",
   "version": "3.5.4"
  }
 },
 "nbformat": 4,
 "nbformat_minor": 0
}