{
 "cells": [
  {
   "cell_type": "markdown",
   "metadata": {
    "collapsed": false
   },
   "source": [
    "Eulers Method:\n",
    "Euler's Method generates the solution to an initial value problem by considering an initial condition and the slope of a given function. The domain is then divided into subdivisions of equal length. Then, using the initial condition as the starting point, the equation generates the rest of the solution by iterating through the domain. Euler's method considers the previous point to estimate the value at the next point. Each iteration takes the previous value and adds the change in time multiplied by the slope at that point.\n",
    "\n",
    "\n"
   ]
  }
 ],
 "metadata": {
  "kernelspec": {
   "display_name": "Python 3 (Anaconda)",
   "language": "python",
   "name": "anaconda3"
  },
  "language_info": {
   "codemirror_mode": {
    "name": "ipython",
    "version": 3
   },
   "file_extension": ".py",
   "mimetype": "text/x-python",
   "name": "python",
   "nbconvert_exporter": "python",
   "pygments_lexer": "ipython3",
   "version": "3.5.4"
  }
 },
 "nbformat": 4,
 "nbformat_minor": 0
}